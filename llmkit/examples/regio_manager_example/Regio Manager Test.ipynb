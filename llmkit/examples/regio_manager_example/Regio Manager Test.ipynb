{
 "cells": [
  {
   "cell_type": "code",
   "execution_count": null,
   "id": "00852ead",
   "metadata": {},
   "outputs": [],
   "source": [
    "from llama_index import  GPTVectorStoreIndex, SimpleDirectoryReader, LLMPredictor, ServiceContext, PromptHelper\n",
    "from langchain.chat_models import ChatOpenAI\n",
    "import os\n",
    "\n",
    "os.environ[\"OPENAI_API_KEY\"] = # your own OpenApi key, you can also set it using shell \n",
    "\n",
    "def construct_index(directory_path):\n",
    "    # set maximum input size\n",
    "    max_input_size = 4096\n",
    "    # set number of output tokens\n",
    "    num_outputs = 512\n",
    "    # set maximum chunk overlap\n",
    "    max_chunk_overlap = 20\n",
    "    # set chunk size limit\n",
    "    chunk_size_limit = 600\n",
    "    temperature= 0.7 # randomness or creativeness in the output\n",
    "    model_name= \"gpt-3.5-turbo\"\n",
    "\n",
    "\n",
    "    prompt_helper = PromptHelper(max_input_size, num_outputs, max_chunk_overlap, chunk_size_limit=chunk_size_limit)\n",
    "\n",
    "    documents = SimpleDirectoryReader(directory_path).load_data()\n",
    "\n",
    "    llm_predictor = LLMPredictor(llm=ChatOpenAI(temperature=temperature, model_name=model_name, max_tokens=num_outputs))\n",
    "\n",
    "    index = GPTVectorStoreIndex.from_documents(documents, llm_predictor=llm_predictor, prompt_helper=prompt_helper)\n",
    "\n",
    "    index.storage_context.persist()\n",
    "\n",
    "    return index"
   ]
  },
  {
   "cell_type": "code",
   "execution_count": null,
   "id": "65d70f46",
   "metadata": {},
   "outputs": [],
   "source": [
    "construct_index(\"rm_docs\")"
   ]
  },
  {
   "cell_type": "code",
   "execution_count": null,
   "id": "3c1b5912",
   "metadata": {},
   "outputs": [],
   "source": [
    "from llama_index import StorageContext, load_index_from_storage\n",
    "def chatbot(input_text):\n",
    "\n",
    "    # rebuild storage context\n",
    "    storage_context = StorageContext.from_defaults(persist_dir=\"storage\")\n",
    "    # load index\n",
    "    index = load_index_from_storage(storage_context)\n",
    "\n",
    "    # https://gpt-index.readthedocs.io/en/latest/guides/primer/usage_pattern.html#high-level-api\n",
    "    query_engine = index.as_query_engine()\n",
    "    response = query_engine.query(input_text)\n",
    "    return response.response\n"
   ]
  },
  {
   "cell_type": "code",
   "execution_count": null,
   "id": "c9a05fab",
   "metadata": {},
   "outputs": [],
   "source": [
    "print(chatbot(\"What are the services provided by each company?\"))"
   ]
  },
  {
   "cell_type": "code",
   "execution_count": null,
   "id": "7129b938",
   "metadata": {},
   "outputs": [],
   "source": [
    "print(chatbot(\"which company provide family law services?\"))"
   ]
  },
  {
   "cell_type": "code",
   "execution_count": null,
   "id": "a317b05f",
   "metadata": {},
   "outputs": [],
   "source": [
    "print(chatbot(\"what are the service provided by Szary Westerath & Partner SWP?\"))"
   ]
  },
  {
   "cell_type": "code",
   "execution_count": null,
   "id": "b342fa53",
   "metadata": {},
   "outputs": [],
   "source": [
    "print(chatbot(\"\"\"which company represent this specific industry \"Insolvenzverwalter\"?\"\"\"))"
   ]
  },
  {
   "cell_type": "code",
   "execution_count": null,
   "id": "45b36245",
   "metadata": {},
   "outputs": [],
   "source": []
  }
 ],
 "metadata": {
  "kernelspec": {
   "display_name": "Python 3 (ipykernel)",
   "language": "python",
   "name": "python3"
  },
  "language_info": {
   "codemirror_mode": {
    "name": "ipython",
    "version": 3
   },
   "file_extension": ".py",
   "mimetype": "text/x-python",
   "name": "python",
   "nbconvert_exporter": "python",
   "pygments_lexer": "ipython3",
   "version": "3.8.16"
  }
 },
 "nbformat": 4,
 "nbformat_minor": 5
}
