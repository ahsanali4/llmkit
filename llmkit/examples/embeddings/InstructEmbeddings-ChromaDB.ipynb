{
 "cells": [
  {
   "cell_type": "markdown",
   "metadata": {
    "id": "AjmU8-gSxqkM"
   },
   "source": [
    "# **Create Embeddings and store them in chroma db to use them later.**"
   ]
  },
  {
   "cell_type": "code",
   "execution_count": null,
   "metadata": {
    "id": "kzbdMaFiKhGO"
   },
   "outputs": [],
   "source": [
    "# on colab\n",
    "!pip install langchain tiktoken chromadb pypdf transformers InstructorEmbedding accelerate bitsandbytes sentencepiece Xformers sentence-transformers"
   ]
  },
  {
   "cell_type": "code",
   "execution_count": 1,
   "metadata": {
    "colab": {
     "base_uri": "https://localhost:8080/"
    },
    "executionInfo": {
     "elapsed": 1877,
     "status": "ok",
     "timestamp": 1688723247893,
     "user": {
      "displayName": "Muhammad Ahsan Ali",
      "userId": "06941653628544840407"
     },
     "user_tz": -120
    },
    "id": "Rl9Fgzt1tod9",
    "outputId": "0b309688-b53a-4a42-ec0f-ded69c238046"
   },
   "outputs": [
    {
     "name": "stdout",
     "output_type": "stream",
     "text": [
      "Drive already mounted at /content/drive; to attempt to forcibly remount, call drive.mount(\"/content/drive\", force_remount=True).\n"
     ]
    }
   ],
   "source": [
    "from google.colab import drive\n",
    "drive.mount('/content/drive')"
   ]
  },
  {
   "cell_type": "code",
   "execution_count": 11,
   "metadata": {
    "executionInfo": {
     "elapsed": 427,
     "status": "ok",
     "timestamp": 1688723970739,
     "user": {
      "displayName": "Muhammad Ahsan Ali",
      "userId": "06941653628544840407"
     },
     "user_tz": -120
    },
    "id": "19wrhXPAyW8q"
   },
   "outputs": [],
   "source": [
    "base_path = '/content/drive/MyDrive/Colab Notebooks/LLM_chatbot_devs'\n",
    "example_pdf_path = '/content/drive/MyDrive/Colab Notebooks/Handbuch_Spritzgiessen.3446440984_WM_sch_men_2020-07-191887-22554405-1.pdf'\n",
    "db_storage_path = '/content/drive/MyDrive/Colab Notebooks/moulding'\n"
   ]
  },
  {
   "cell_type": "code",
   "execution_count": 2,
   "metadata": {
    "executionInfo": {
     "elapsed": 3,
     "status": "ok",
     "timestamp": 1688723249855,
     "user": {
      "displayName": "Muhammad Ahsan Ali",
      "userId": "06941653628544840407"
     },
     "user_tz": -120
    },
    "id": "iMqqorzcR7ci"
   },
   "outputs": [],
   "source": [
    "import sys\n",
    "sys.path.append(base_path)"
   ]
  },
  {
   "cell_type": "code",
   "execution_count": 8,
   "metadata": {
    "executionInfo": {
     "elapsed": 74751,
     "status": "ok",
     "timestamp": 1688723741236,
     "user": {
      "displayName": "Muhammad Ahsan Ali",
      "userId": "06941653628544840407"
     },
     "user_tz": -120
    },
    "id": "CxiM8ZyLuJa0"
   },
   "outputs": [],
   "source": [
    "from llm_chatbot_devs.core.loaders.pdf_loaders import get_pypdfloader\n",
    "documents = get_pypdfloader(example_pdf_path)"
   ]
  },
  {
   "cell_type": "code",
   "execution_count": 9,
   "metadata": {
    "executionInfo": {
     "elapsed": 2677,
     "status": "ok",
     "timestamp": 1688723752487,
     "user": {
      "displayName": "Muhammad Ahsan Ali",
      "userId": "06941653628544840407"
     },
     "user_tz": -120
    },
    "id": "SW1hiEVRR173"
   },
   "outputs": [],
   "source": [
    "from llm_chatbot_devs.utils.preprocessing import text_splitter\n",
    "text_chunks = text_splitter(documents=documents)"
   ]
  },
  {
   "cell_type": "code",
   "execution_count": null,
   "metadata": {
    "id": "Hbnp8UgeSTI1"
   },
   "outputs": [],
   "source": [
    "\n",
    "from llm_chatbot_devs.core.embeddings import get_instruct_embeddings\n",
    "embeddings = get_instruct_embeddings(model_kwargs={\"device\": \"cuda\"})"
   ]
  },
  {
   "cell_type": "code",
   "execution_count": null,
   "metadata": {
    "id": "-9PTOpFpxSGM"
   },
   "outputs": [],
   "source": [
    "from llm_chatbot_devs.utils.preprocessing import create_chroma_db\n",
    "db = create_chroma_db(embeddings,text_chunks,collection_name = \"a4ba\", persist_directory = db_storage_path)\n",
    "db.persist()"
   ]
  },
  {
   "cell_type": "markdown",
   "metadata": {
    "id": "hHG0Yd58DR_o"
   },
   "source": [
    "Load already stored document embeddings"
   ]
  },
  {
   "cell_type": "code",
   "execution_count": 18,
   "metadata": {
    "executionInfo": {
     "elapsed": 430,
     "status": "ok",
     "timestamp": 1688726095207,
     "user": {
      "displayName": "Muhammad Ahsan Ali",
      "userId": "06941653628544840407"
     },
     "user_tz": -120
    },
    "id": "mUqNr2zsZNkI"
   },
   "outputs": [],
   "source": [
    "from langchain.vectorstores import Chroma\n",
    "vectordb = Chroma(embedding_function=embeddings,collection_name=\"a4ba\",\n",
    "                                 persist_directory=db_storage_path)"
   ]
  },
  {
   "cell_type": "code",
   "execution_count": 19,
   "metadata": {
    "colab": {
     "base_uri": "https://localhost:8080/"
    },
    "executionInfo": {
     "elapsed": 429,
     "status": "ok",
     "timestamp": 1688726097370,
     "user": {
      "displayName": "Muhammad Ahsan Ali",
      "userId": "06941653628544840407"
     },
     "user_tz": -120
    },
    "id": "13dy5kIfFTfY",
    "outputId": "c793d2c3-1d80-456f-89dc-0925f1829b6c"
   },
   "outputs": [
    {
     "data": {
      "text/plain": [
       "[Document(page_content='Die Autoren:\\nDr.-Ing .Friedric hJohannaber ,Berta Lungstras Weg14, 53797 Lohmar\\nProf.Dr.-Ing.Dr.-Ing.e.h.Walter Michaeli, Institu tfu¨rKunststoffverarbeitung,\\nRWTH Aachen ,Pontstraße 49, 52062 Aachen\\nBibliografische Information Der Deutschen Bibliothek:\\nDie Deutsche Bibliothe kverzeichnet diese Publikation in der Deutschen Nationalbiblio-\\ngrafie; detaillierte bibliografische Date nsind im Internet u¨ber <http://dnb.ddb.de> abrufbar.\\nISBN 3-446-22966-3\\nwww.hanser.de\\nDie Wiedergabe von Gebrauchsnamen, Handelsnamen, Warenbezeichnungen usw .indie-\\nsem Werk berechtigt auch ohne besondere Kennzeichnun gnicht zu der Annahme ,dass\\nsolche Namen im Sinn ederWarenzeichen- und Markenschutzgesetzgebung als frei zu be-\\ntrachten wa ¨ren und daher von jedermann benutzt werde ndu¨rften.\\nAlleindiesem Buch enthaltenen Verfahren bzw .Daten wurden nach bestem Wissen er-\\nstellt und mit Sorgfalt getestet. Dennoch sind Fehler nicht ganz auszuschließen.', metadata={'source': '/content/drive/MyDrive/Colab Notebooks/Handbuch_Spritzgiessen.3446440984_WM_sch_men_2020-07-191887-22554405-1.pdf', 'page': 4}),\n",
       " Document(page_content='der Arbeit (Klassifizierung), außerdem werden die zutreffenden Schlagwo ¨rter (De-\\nskriptoren) ausgewa ¨hlt und zusammen mit \"uellenangabe nzur Originalliteratur,\\nVerfasser ,Titel, \\x13rscheinungsjah rsowie eine rkurzen Inhaltsangabe (Abstract) in\\nder Datenbank gespeichert.3W erkstoffe fu ¨rdas Spritzgießen 9Literatur S.15M: 142Lizenziert für sfrenzel@kybeidos.de_no_account_QD0N7RBEST.\\n© 2014 Carl Hanser Fachbuchverlag. Alle Rechte vorbehalten. Keine unerlaubte Weitergabe oder Vervielfältigung.\\n- orderid - sch_men_2020-07-191887-22554405-1 - transid - sch_men_2020-07-191887-22554405-1 -', metadata={'source': '/content/drive/MyDrive/Colab Notebooks/Handbuch_Spritzgiessen.3446440984_WM_sch_men_2020-07-191887-22554405-1.pdf', 'page': 164}),\n",
       " Document(page_content='lange\\nNach-\\ndruckzeit5–M0 1,5 –3 550–600 2–6\\nP\\x13-HD 600 –1200 100 –250 30 –60 5–M0 1,5 –5 200–600 2–6\\nPolypropylen PP 1200 –1M00 100 –200 50 –95\\nsehr lange\\nNach-\\ndruckzeit10–M01 ,2–2,5 250 –700 2–64Verarbeitungsdaten 9Literatur S.17M: 172Lizenziert für sfrenzel@kybeidos.de_no_account_QD0N7RBEST.\\n© 2014 Carl Hanser Fachbuchverlag. Alle Rechte vorbehalten. Keine unerlaubte Weitergabe oder Vervielfältigung.\\n- orderid - sch_men_2020-07-191887-22554405-1 - transid - sch_men_2020-07-191887-22554405-1 -', metadata={'source': '/content/drive/MyDrive/Colab Notebooks/Handbuch_Spritzgiessen.3446440984_WM_sch_men_2020-07-191887-22554405-1.pdf', 'page': 194}),\n",
       " Document(page_content='wurde Anfan gder M0er-Jahre bei Kuasy,Schwerin entwickelt und erstmals auf der7.M Schließeinheit M61Lizenziert für sfrenzel@kybeidos.de_no_account_QD0N7RBEST.\\n© 2014 Carl Hanser Fachbuchverlag. Alle Rechte vorbehalten. Keine unerlaubte Weitergabe oder Vervielfältigung.\\n- orderid - sch_men_2020-07-191887-22554405-1 - transid - sch_men_2020-07-191887-22554405-1 -', metadata={'source': '/content/drive/MyDrive/Colab Notebooks/Handbuch_Spritzgiessen.3446440984_WM_sch_men_2020-07-191887-22554405-1.pdf', 'page': 883})]"
      ]
     },
     "execution_count": 19,
     "metadata": {},
     "output_type": "execute_result"
    }
   ],
   "source": [
    "vectordb.similarity_search(\"who is the author of the document?\")"
   ]
  }
 ],
 "metadata": {
  "accelerator": "GPU",
  "colab": {
   "gpuType": "T4",
   "machine_shape": "hm",
   "provenance": [
    {
     "file_id": "1bARZZnxF8lYBxtPGYFtMD7Rfc9-ckbzz",
     "timestamp": 1688722514233
    },
    {
     "file_id": "1JwzfVRZMEUSRhZZldDZrz5s-MyjkGn-i",
     "timestamp": 1688544410653
    }
   ]
  },
  "kernelspec": {
   "display_name": "Python 3 (ipykernel)",
   "language": "python",
   "name": "python3"
  },
  "language_info": {
   "codemirror_mode": {
    "name": "ipython",
    "version": 3
   },
   "file_extension": ".py",
   "mimetype": "text/x-python",
   "name": "python",
   "nbconvert_exporter": "python",
   "pygments_lexer": "ipython3",
   "version": "3.8.18"
  }
 },
 "nbformat": 4,
 "nbformat_minor": 4
}
